{
 "cells": [
  {
   "cell_type": "code",
   "execution_count": 1,
   "metadata": {},
   "outputs": [],
   "source": [
    "import numpy as np\n",
    "import pandas as pd\n",
    "import os"
   ]
  },
  {
   "cell_type": "code",
   "execution_count": 26,
   "metadata": {},
   "outputs": [],
   "source": [
    "data_directory = \"../Data/Study/\"\n",
    "hololenses = ['A/', 'B/']\n",
    "subdirectory = \"static/error/recalibrated_calibration/\"\n",
    "#tasknames=['calibration']\n",
    "tasknames = ['calibration', 'ssHeadConstrained', 'wsBodyConstrained', 'ssWalking', 'wsWalking', 'hallway']"
   ]
  },
  {
   "cell_type": "code",
   "execution_count": 27,
   "metadata": {},
   "outputs": [],
   "source": [
    "def calculate_average_error():\n",
    "    #allErrorsList=[]\n",
    "    allAverageErrorsList=[]\n",
    "    for taskname in tasknames:\n",
    "        print(taskname)\n",
    "        for hololens in hololenses:\n",
    "            uncalibratedEuclidean = []\n",
    "            calibratedEuclidean = []\n",
    "            cosine = []\n",
    "            print(hololens)\n",
    "            participants = os.listdir(data_directory + hololens)\n",
    "            for participant in participants:\n",
    "                if not participant == '.DS_Store':\n",
    "                    fileList = os.listdir(data_directory + hololens + participant + '/' + subdirectory)\n",
    "                    for file in fileList:\n",
    "                        if file.startswith(taskname):\n",
    "                            filePath = data_directory + hololens + participant + '/' + subdirectory + file\n",
    "                            df = pd.read_csv(filePath)\n",
    "                            uncalibratedEuclidean.append(df[['euclideanError']])\n",
    "                            calibratedEuclidean.append(df[['recalibratedEuclideanError']])\n",
    "                            cosine.append(df[['cosineError']])\n",
    "                            if hololens == 'A/':\n",
    "                                df['hololens'] = 'A'\n",
    "                            elif hololens == 'B/':\n",
    "                                df['hololens'] = 'B'\n",
    "                            df['taskname'] = taskname\n",
    "                            #allErrorsList.append(df[['taskname', 'hololens', 'euclideanError', 'recalibratedEuclideanError', 'cosineError']])\n",
    "                            d = {'taskname': [taskname], 'hololens': [df.loc[0, 'hololens']], 'euclideanError': [df['euclideanError'].mean()], 'recalibratedEuclideanError': [df['recalibratedEuclideanError'].mean()], 'cosineError': [df['cosineError'].mean()]}\n",
    "                            allAverageErrorsList.append(pd.DataFrame(data = d))\n",
    "            print(len(cosine))\n",
    "            totalUncalibratedEuclidean = pd.DataFrame().append(uncalibratedEuclidean)\n",
    "            totalCalibratedEuclidean = pd.DataFrame().append(calibratedEuclidean)\n",
    "            totalCosine = pd.DataFrame().append(cosine)\n",
    "            # print(\"Uncalibrated euclidean: \" + str(totalUncalibratedEuclidean['euclideanError'].mean()))\n",
    "            # print(\"Calibrated euclidean: \" + str(totalCalibratedEuclidean['recalibratedEuclideanError'].mean()))\n",
    "            # print(\"Cosine: \" + str(totalCosine['cosineError'].mean()))\n",
    "    #allErrors = pd.DataFrame().append(allErrorsList)\n",
    "    recalibration = subdirectory.split('/')[-2]\n",
    "    #allErrors.to_csv('../' + recalibration + '_error.csv', index=False)\n",
    "    averageErrors = pd.DataFrame().append(allAverageErrorsList)\n",
    "    averageErrors.to_csv('../Data/static_' + recalibration + '_average_error.csv', index=False)\n",
    "        #return [totalUncalibratedEuclidean['euclideanError'].mean(), totalCalibratedEuclidean['recalibratedEuclideanError'].mean(), totalCosine['cosineError'].mean()]\n"
   ]
  },
  {
   "cell_type": "code",
   "execution_count": 28,
   "metadata": {},
   "outputs": [
    {
     "name": "stdout",
     "output_type": "stream",
     "text": [
      "calibration\n",
      "A/\n",
      "50\n",
      "B/\n",
      "50\n",
      "ssHeadConstrained\n",
      "A/\n",
      "50\n",
      "B/\n",
      "50\n",
      "wsBodyConstrained\n",
      "A/\n",
      "50\n",
      "B/\n",
      "50\n",
      "ssWalking\n",
      "A/\n",
      "50\n",
      "B/\n",
      "50\n",
      "wsWalking\n",
      "A/\n",
      "50\n",
      "B/\n",
      "50\n",
      "hallway\n",
      "A/\n",
      "50\n",
      "B/\n",
      "50\n"
     ]
    }
   ],
   "source": [
    "#taskname = \"calibration_\"\n",
    "errors = calculate_average_error()\n",
    "#print(\"Uncalibrated euclidean: \" + str(errors[0]))\n",
    "#print(\"Calibrated euclidean: \" + str(errors[1]))\n",
    "#print(\"Cosine: \" + str(errors[2]))"
   ]
  }
 ],
 "metadata": {
  "kernelspec": {
   "display_name": "base",
   "language": "python",
   "name": "python3"
  },
  "language_info": {
   "codemirror_mode": {
    "name": "ipython",
    "version": 3
   },
   "file_extension": ".py",
   "mimetype": "text/x-python",
   "name": "python",
   "nbconvert_exporter": "python",
   "pygments_lexer": "ipython3",
   "version": "3.8.5"
  },
  "orig_nbformat": 4
 },
 "nbformat": 4,
 "nbformat_minor": 2
}
