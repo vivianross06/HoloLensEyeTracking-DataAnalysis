{
 "cells": [
  {
   "cell_type": "code",
   "execution_count": 10,
   "metadata": {},
   "outputs": [],
   "source": [
    "import numpy as np\n",
    "import pandas as pd\n",
    "import os\n",
    "import math\n",
    "from datetime import datetime, timedelta\n",
    "from sklearn import linear_model"
   ]
  },
  {
   "cell_type": "code",
   "execution_count": 33,
   "metadata": {},
   "outputs": [],
   "source": [
    "data_directory = \"../Data/Study/A/\"\n",
    "intermediate = 'static/'\n",
    "subdirectory = \"shifted/\""
   ]
  },
  {
   "cell_type": "code",
   "execution_count": 19,
   "metadata": {},
   "outputs": [],
   "source": [
    "def clean_df(df):\n",
    "    result = df.loc[(df['Movement'] != \"start\") & (df['Movement'] != \"transition\") & (df['EyeTrackingEnabled'] == True) & (df['EyeCalibrationValid'] == True) & (df['EyeTrackingEnabledAndValid'] == True) & (df['EyeTrackingDataValid'] == True) & (df['GazeInputSource'] == \"Eyes\")].copy()\n",
    "    #result = result[result['Movement'] != \"transition\"]\n",
    "    #result = result[result['EyeTrackingDataValid'] == 'TRUE']\n",
    "    #result = result[result['GazeInputSource'] == 'Eyes']\n",
    "    result.reset_index(inplace=True, drop=True)\n",
    "    return result"
   ]
  },
  {
   "cell_type": "code",
   "execution_count": 16,
   "metadata": {},
   "outputs": [],
   "source": [
    "# def create_calibration_df(taskName):\n",
    "#     frames = []\n",
    "#     for file in fileList:\n",
    "#         if taskName in file:\n",
    "#             df = pd.read_csv(data_directory + subdirectory + file)\n",
    "#             df = clean_df(df)\n",
    "#             frames.append(df)\n",
    "#     result = pd.concat(frames)\n",
    "#     return result"
   ]
  },
  {
   "cell_type": "code",
   "execution_count": 13,
   "metadata": {},
   "outputs": [],
   "source": [
    "def create_calibration_df(taskName, fileList, participant):\n",
    "    frames = []\n",
    "    for file in fileList:\n",
    "        if taskName in file:\n",
    "            filePath = data_directory + participant + '/' + subdirectory + file\n",
    "            df = pd.read_csv(filePath)\n",
    "            df = clean_df(df)\n",
    "            frames.append(df)\n",
    "    if len(frames) == 0:\n",
    "        print(\"error: task not found\")\n",
    "        return None\n",
    "    else:\n",
    "        result = pd.concat(frames)\n",
    "        return result"
   ]
  },
  {
   "cell_type": "code",
   "execution_count": 14,
   "metadata": {},
   "outputs": [],
   "source": [
    "def calculate_regression_coefficients(df):\n",
    "    x1 = df[['GazeAngleX','GazeAngleY']]\n",
    "    y1 = df['TargetAngleX']\n",
    "    x2 = df[['GazeAngleX','GazeAngleY']]\n",
    "    y2 = df['TargetAngleY']\n",
    "    x_regr = linear_model.LinearRegression()\n",
    "    x_regr.fit(x1.to_numpy(), y1.to_numpy())\n",
    "    y_regr = linear_model.LinearRegression()\n",
    "    y_regr.fit(x2.to_numpy(), y2.to_numpy())\n",
    "    return [x_regr, y_regr]"
   ]
  },
  {
   "cell_type": "code",
   "execution_count": 21,
   "metadata": {},
   "outputs": [],
   "source": [
    "def calibrate_files(taskname):\n",
    "    output_subdirectory = intermediate + \"recalibrated_\" + taskname\n",
    "    participantList = os.listdir(data_directory)\n",
    "    for participant in participantList:\n",
    "        print(participant)\n",
    "        if participant == '.DS_Store':\n",
    "            print(\"skipping calibration\")\n",
    "            continue\n",
    "        if os.path.exists(data_directory + participant + '/' + output_subdirectory):\n",
    "            print(\"already calibrated\")\n",
    "            continue\n",
    "        fileList = os.listdir(data_directory + participant + '/' + intermediate + subdirectory)\n",
    "        calibration_df = create_calibration_df(taskname, fileList, participant)\n",
    "        [x_coeff, y_coeff] = calculate_regression_coefficients(calibration_df)\n",
    "        for file in fileList:\n",
    "            filePath = data_directory + participant + '/' + intermediate + subdirectory + file\n",
    "            if '.csv' in file:\n",
    "                df = pd.read_csv(filePath)\n",
    "                df = clean_df(df)\n",
    "                df['CalibratedGazeAngleX'] = df.apply(lambda row: x_coeff.predict([[row['GazeAngleX'],row['GazeAngleY']]])[0], axis = 1)\n",
    "                df['CalibratedGazeAngleY'] = df.apply(lambda row: y_coeff.predict([[row['GazeAngleX'],row['GazeAngleY']]])[0], axis = 1)\n",
    "                recalibrated_df_output_directory = data_directory + participant + '/' + output_subdirectory\n",
    "                recalibrated_df_output_path = data_directory + participant + '/' + output_subdirectory + '/' + file\n",
    "                if not os.path.exists(recalibrated_df_output_directory):\n",
    "                    os.mkdir(recalibrated_df_output_directory)\n",
    "                #filePrefix = file.split('.')[0]\n",
    "                #recalibrated_df_output_path = data_directory + output_subdirectory + '/' + filePrefix + '_recalibrated_' + taskname + '.csv'\n",
    "                df.to_csv(recalibrated_df_output_path, index=False)"
   ]
  },
  {
   "cell_type": "code",
   "execution_count": 21,
   "metadata": {},
   "outputs": [],
   "source": [
    "# def calibrate_files(taskname, output_subdirectory):\n",
    "#     calibration_df = create_calibration_df(taskname)\n",
    "#     [x_coeff, y_coeff] = calculate_regression_coefficients(calibration_df)\n",
    "#     for file in fileList:\n",
    "#         if '.csv' in file:\n",
    "#             df = pd.read_csv(data_directory + subdirectory + file)\n",
    "#             df = clean_df(df)\n",
    "#             df['CalibratedGazeAngleX'] = df.apply(lambda row: x_coeff.predict([[row['GazeAngleX'],row['GazeAngleY']]])[0], axis = 1)\n",
    "#             df['CalibratedGazeAngleY'] = df.apply(lambda row: y_coeff.predict([[row['GazeAngleX'],row['GazeAngleY']]])[0], axis = 1)\n",
    "#             if not os.path.exists(os.path.join(data_directory, output_subdirectory)):\n",
    "#                 os.mkdir(os.path.join(data_directory, output_subdirectory))\n",
    "#             filePrefix = file.split('.')[0]\n",
    "#             #recalibrated_df_output_path = data_directory + output_subdirectory + '/' + filePrefix + '_recalibrated_' + taskname + '.csv'\n",
    "#             recalibrated_df_output_path = data_directory + output_subdirectory + '/' + file\n",
    "#             df.to_csv(recalibrated_df_output_path)"
   ]
  },
  {
   "cell_type": "code",
   "execution_count": 34,
   "metadata": {},
   "outputs": [
    {
     "name": "stdout",
     "output_type": "stream",
     "text": [
      "03\n",
      "already calibrated\n",
      "04\n",
      "already calibrated\n",
      "32\n",
      "34\n",
      "05\n",
      "already calibrated\n",
      "02\n",
      ".DS_Store\n",
      "skipping calibration\n",
      "18\n",
      "27\n",
      "29\n",
      "10\n",
      "19\n",
      "43\n"
     ]
    },
    {
     "ename": "FileNotFoundError",
     "evalue": "[Errno 2] No such file or directory: '../Data/Study/A/43/static/shifted/'",
     "output_type": "error",
     "traceback": [
      "\u001b[0;31m---------------------------------------------------------------------------\u001b[0m",
      "\u001b[0;31mFileNotFoundError\u001b[0m                         Traceback (most recent call last)",
      "\u001b[0;32m/var/folders/fd/prvd78ln6fddqyhkvtndyqb80000gn/T/ipykernel_10827/3048466423.py\u001b[0m in \u001b[0;36m<module>\u001b[0;34m\u001b[0m\n\u001b[0;32m----> 1\u001b[0;31m \u001b[0mcalibrate_files\u001b[0m\u001b[0;34m(\u001b[0m\u001b[0;34m\"calibration\"\u001b[0m\u001b[0;34m)\u001b[0m\u001b[0;34m\u001b[0m\u001b[0;34m\u001b[0m\u001b[0m\n\u001b[0m",
      "\u001b[0;32m/var/folders/fd/prvd78ln6fddqyhkvtndyqb80000gn/T/ipykernel_10827/3699033257.py\u001b[0m in \u001b[0;36mcalibrate_files\u001b[0;34m(taskname)\u001b[0m\n\u001b[1;32m     10\u001b[0m             \u001b[0mprint\u001b[0m\u001b[0;34m(\u001b[0m\u001b[0;34m\"already calibrated\"\u001b[0m\u001b[0;34m)\u001b[0m\u001b[0;34m\u001b[0m\u001b[0;34m\u001b[0m\u001b[0m\n\u001b[1;32m     11\u001b[0m             \u001b[0;32mcontinue\u001b[0m\u001b[0;34m\u001b[0m\u001b[0;34m\u001b[0m\u001b[0m\n\u001b[0;32m---> 12\u001b[0;31m         \u001b[0mfileList\u001b[0m \u001b[0;34m=\u001b[0m \u001b[0mos\u001b[0m\u001b[0;34m.\u001b[0m\u001b[0mlistdir\u001b[0m\u001b[0;34m(\u001b[0m\u001b[0mdata_directory\u001b[0m \u001b[0;34m+\u001b[0m \u001b[0mparticipant\u001b[0m \u001b[0;34m+\u001b[0m \u001b[0;34m'/'\u001b[0m \u001b[0;34m+\u001b[0m \u001b[0mintermediate\u001b[0m \u001b[0;34m+\u001b[0m \u001b[0msubdirectory\u001b[0m\u001b[0;34m)\u001b[0m\u001b[0;34m\u001b[0m\u001b[0;34m\u001b[0m\u001b[0m\n\u001b[0m\u001b[1;32m     13\u001b[0m         \u001b[0mcalibration_df\u001b[0m \u001b[0;34m=\u001b[0m \u001b[0mcreate_calibration_df\u001b[0m\u001b[0;34m(\u001b[0m\u001b[0mtaskname\u001b[0m\u001b[0;34m,\u001b[0m \u001b[0mfileList\u001b[0m\u001b[0;34m,\u001b[0m \u001b[0mparticipant\u001b[0m\u001b[0;34m)\u001b[0m\u001b[0;34m\u001b[0m\u001b[0;34m\u001b[0m\u001b[0m\n\u001b[1;32m     14\u001b[0m         \u001b[0;34m[\u001b[0m\u001b[0mx_coeff\u001b[0m\u001b[0;34m,\u001b[0m \u001b[0my_coeff\u001b[0m\u001b[0;34m]\u001b[0m \u001b[0;34m=\u001b[0m \u001b[0mcalculate_regression_coefficients\u001b[0m\u001b[0;34m(\u001b[0m\u001b[0mcalibration_df\u001b[0m\u001b[0;34m)\u001b[0m\u001b[0;34m\u001b[0m\u001b[0;34m\u001b[0m\u001b[0m\n",
      "\u001b[0;31mFileNotFoundError\u001b[0m: [Errno 2] No such file or directory: '../Data/Study/A/43/static/shifted/'"
     ]
    }
   ],
   "source": [
    "calibrate_files(\"calibration\")"
   ]
  }
 ],
 "metadata": {
  "kernelspec": {
   "display_name": "base",
   "language": "python",
   "name": "python3"
  },
  "language_info": {
   "codemirror_mode": {
    "name": "ipython",
    "version": 3
   },
   "file_extension": ".py",
   "mimetype": "text/x-python",
   "name": "python",
   "nbconvert_exporter": "python",
   "pygments_lexer": "ipython3",
   "version": "3.8.5"
  },
  "orig_nbformat": 4
 },
 "nbformat": 4,
 "nbformat_minor": 2
}
