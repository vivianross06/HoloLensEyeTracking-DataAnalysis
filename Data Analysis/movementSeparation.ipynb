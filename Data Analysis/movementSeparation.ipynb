{
 "cells": [
  {
   "cell_type": "code",
   "execution_count": 2,
   "metadata": {},
   "outputs": [],
   "source": [
    "import numpy as np\n",
    "import pandas as pd\n",
    "import os\n",
    "from datetime import datetime, timedelta\n",
    "import matplotlib.pyplot as plt"
   ]
  },
  {
   "cell_type": "code",
   "execution_count": 60,
   "metadata": {},
   "outputs": [],
   "source": [
    "# data_directory = \"../Data/Study/06/\"\n",
    "# subdirectory = \"shifted/\"\n",
    "# fileList = os.listdir(data_directory + subdirectory)"
   ]
  },
  {
   "cell_type": "code",
   "execution_count": 16,
   "metadata": {},
   "outputs": [],
   "source": [
    "data_directory = \"../Data/Study/B/\"\n",
    "subdirectory = \"shifted/\""
   ]
  },
  {
   "cell_type": "code",
   "execution_count": 4,
   "metadata": {},
   "outputs": [],
   "source": [
    "def clean_df(df):\n",
    "    result = df.loc[(df['Movement'] != \"start\") & (df['Movement'] != \"transition\") & (df['EyeTrackingEnabled'] == True) & (df['EyeCalibrationValid'] == True) & (df['EyeTrackingEnabledAndValid'] == True) & (df['EyeTrackingDataValid'] == True) & (df['GazeInputSource'] == \"Eyes\")].copy()\n",
    "    result.reset_index(inplace=True, drop=True)\n",
    "    return result"
   ]
  },
  {
   "cell_type": "code",
   "execution_count": 5,
   "metadata": {},
   "outputs": [],
   "source": [
    "def separate_moving_static(df):\n",
    "    moving_df = df.loc[df['Movement'] == \"moving\"].copy()\n",
    "    static_df = df.loc[df['Movement'] == \"static\"].copy()\n",
    "    return [moving_df, static_df]"
   ]
  },
  {
   "cell_type": "code",
   "execution_count": 14,
   "metadata": {},
   "outputs": [],
   "source": [
    "def separate_movement_files():\n",
    "    participantList = os.listdir(data_directory)\n",
    "    for participant in participantList:\n",
    "        print(participant)\n",
    "        if participant == '.DS_Store' or participant == '02':\n",
    "            print(\"Skipping movement separation\")\n",
    "            continue\n",
    "        if os.path.exists(data_directory + participant + '/moving/' + subdirectory) and os.path.exists(data_directory + participant + '/static/' + subdirectory):\n",
    "            print(\"Already separated\")\n",
    "            continue\n",
    "        fileList = os.listdir(data_directory + participant + '/' + subdirectory)\n",
    "        for file in fileList:\n",
    "            filePath = data_directory + participant + '/' + subdirectory + file\n",
    "            if '.csv' in file:\n",
    "                df = pd.read_csv(filePath)\n",
    "                df = clean_df(df)\n",
    "                [moving_df, static_df] = separate_moving_static(df)\n",
    "                if not os.path.exists(data_directory + participant + '/moving/' + subdirectory):\n",
    "                    os.makedirs(data_directory + participant + '/moving/' + subdirectory)\n",
    "                if not os.path.exists(data_directory + participant + '/static/' + subdirectory):\n",
    "                    os.makedirs(data_directory + participant + '/static/' + subdirectory)\n",
    "                if \"calibration\" in file:\n",
    "                    df.to_csv(data_directory + participant + '/moving/' + subdirectory + file)\n",
    "                    df.to_csv(data_directory + participant + '/static/' + subdirectory + file)\n",
    "                else:\n",
    "                    if not moving_df.empty:\n",
    "                        moving_df.to_csv(data_directory + participant + '/moving/' + subdirectory + file.split('.')[0] + \"_moving.csv\")\n",
    "                    if not static_df.empty:\n",
    "                        static_df.to_csv(data_directory + participant + '/static/' + subdirectory + file.split('.')[0] + \"_static.csv\")"
   ]
  },
  {
   "cell_type": "code",
   "execution_count": 18,
   "metadata": {},
   "outputs": [
    {
     "name": "stdout",
     "output_type": "stream",
     "text": [
      ".DS_Store\n",
      "Skipping movement separation\n",
      "20\n",
      "Already separated\n",
      "11\n",
      "Already separated\n",
      "16\n",
      "Already separated\n",
      "17\n",
      "Already separated\n",
      "21\n",
      "Already separated\n",
      "23\n",
      "Already separated\n",
      "15\n",
      "Already separated\n",
      "12\n",
      "Already separated\n",
      "13\n",
      "Already separated\n",
      "14\n",
      "Already separated\n",
      "22\n",
      "Already separated\n"
     ]
    }
   ],
   "source": [
    "separate_movement_files()"
   ]
  }
 ],
 "metadata": {
  "kernelspec": {
   "display_name": "base",
   "language": "python",
   "name": "python3"
  },
  "language_info": {
   "codemirror_mode": {
    "name": "ipython",
    "version": 3
   },
   "file_extension": ".py",
   "mimetype": "text/x-python",
   "name": "python",
   "nbconvert_exporter": "python",
   "pygments_lexer": "ipython3",
   "version": "3.8.5"
  },
  "orig_nbformat": 4
 },
 "nbformat": 4,
 "nbformat_minor": 2
}
