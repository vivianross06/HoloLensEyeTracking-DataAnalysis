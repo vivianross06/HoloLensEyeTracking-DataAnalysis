{
 "cells": [
  {
   "cell_type": "code",
   "execution_count": 1,
   "metadata": {},
   "outputs": [],
   "source": [
    "import numpy as np\n",
    "import pandas as pd\n",
    "import os\n",
    "from datetime import datetime, timedelta"
   ]
  },
  {
   "cell_type": "code",
   "execution_count": 7,
   "metadata": {},
   "outputs": [],
   "source": [
    "data_directory = \"../Data/Study/\"\n",
    "hololenses = ['A/', 'B/']\n",
    "subdirectory = \"raw/\""
   ]
  },
  {
   "cell_type": "code",
   "execution_count": 3,
   "metadata": {},
   "outputs": [],
   "source": [
    "def clean_df(df):\n",
    "    result = df.loc[(df['Movement'] != \"start\") & (df['EyeTrackingEnabled'] == True) & (df['EyeCalibrationValid'] == True) & (df['EyeTrackingEnabledAndValid'] == True) & (df['EyeTrackingDataValid'] == True) & (df['GazeInputSource'] == \"Eyes\")].copy()\n",
    "    result.reset_index(inplace=True, drop=True)\n",
    "    return result"
   ]
  },
  {
   "cell_type": "code",
   "execution_count": 4,
   "metadata": {},
   "outputs": [],
   "source": [
    "def calculate_differences(df):\n",
    "    cleaned_df = clean_df(df)\n",
    "    difference_df = cleaned_df.loc[1:, ['Movement', 'Time', 'GazeAngleX', 'GazeAngleY']]\n",
    "    difference_df.reset_index(inplace=True, drop=True)\n",
    "    difference_df['euclideanDifference'] = difference_df.apply(lambda row: np.linalg.norm(np.array((row['GazeAngleX'], row['GazeAngleY'])) - np.array((cleaned_df.loc[row.name, 'GazeAngleX'], cleaned_df.loc[row.name, 'GazeAngleY']))), axis=1)\n",
    "    difference_df['temporalDifference'] = difference_df.apply(lambda row: (datetime.strptime(row['Time'], \"%m/%d/%Y %H:%M:%S.%f\") - datetime.strptime(cleaned_df.loc[row.name, 'Time'], \"%m/%d/%Y %H:%M:%S.%f\")).total_seconds(), axis=1)\n",
    "    return difference_df"
   ]
  },
  {
   "cell_type": "code",
   "execution_count": 5,
   "metadata": {},
   "outputs": [],
   "source": [
    "def calculate_precision():\n",
    "    for hololens in hololenses:\n",
    "        participantList = os.listdir(data_directory + hololens)\n",
    "        for participant in participantList:\n",
    "            print(participant)\n",
    "            if participant ==  '.DS_Store':\n",
    "                print(\"skipping calculation\")\n",
    "                continue\n",
    "            if os.path.exists(data_directory + hololens + participant + '/precision/' + subdirectory):\n",
    "                print(\"already calculated\")\n",
    "                continue\n",
    "            fileList = os.listdir(data_directory + hololens + participant + '/' + subdirectory)\n",
    "            for file in fileList:\n",
    "                if '.csv' in file:\n",
    "                    filePath = data_directory + hololens + participant + '/' + subdirectory + file\n",
    "                    df = pd.read_csv(filePath)\n",
    "                    difference_df = calculate_differences(df)\n",
    "                    output_directory = data_directory + hololens + participant + '/precision/' + subdirectory\n",
    "                    if not os.path.exists(output_directory):\n",
    "                        os.makedirs(output_directory)\n",
    "                    output_path = output_directory + file\n",
    "                    difference_df.to_csv(output_path, index=False)"
   ]
  },
  {
   "cell_type": "code",
   "execution_count": 8,
   "metadata": {},
   "outputs": [
    {
     "name": "stdout",
     "output_type": "stream",
     "text": [
      "03\n",
      "already calculated\n",
      "04\n",
      "already calculated\n",
      "32\n",
      "34\n",
      "05\n",
      "already calculated\n",
      "02\n",
      ".DS_Store\n",
      "skipping calculation\n",
      "18\n",
      "already calculated\n",
      "27\n",
      "29\n",
      "10\n",
      "already calculated\n",
      "19\n",
      "already calculated\n",
      "43\n",
      "07\n",
      "already calculated\n",
      "36\n",
      "09\n",
      "already calculated\n",
      "37\n",
      "08\n",
      "already calculated\n",
      "01\n",
      "already calculated\n",
      "06\n",
      "already calculated\n",
      "39\n",
      "46\n",
      "41\n",
      "49\n",
      "47\n",
      "25\n",
      "50\n",
      "35\n",
      "33\n",
      ".DS_Store\n",
      "skipping calculation\n",
      "20\n",
      "already calculated\n",
      "11\n",
      "already calculated\n",
      "16\n",
      "already calculated\n",
      "42\n",
      "45\n",
      "28\n",
      "17\n",
      "already calculated\n",
      "26\n",
      "21\n",
      "already calculated\n",
      "44\n",
      "38\n",
      "31\n",
      "30\n",
      "48\n",
      "24\n",
      "23\n",
      "already calculated\n",
      "15\n",
      "already calculated\n",
      "12\n",
      "already calculated\n",
      "40\n",
      "13\n",
      "already calculated\n",
      "14\n",
      "already calculated\n",
      "22\n",
      "already calculated\n"
     ]
    }
   ],
   "source": [
    "calculate_precision()"
   ]
  }
 ],
 "metadata": {
  "kernelspec": {
   "display_name": "base",
   "language": "python",
   "name": "python3"
  },
  "language_info": {
   "codemirror_mode": {
    "name": "ipython",
    "version": 3
   },
   "file_extension": ".py",
   "mimetype": "text/x-python",
   "name": "python",
   "nbconvert_exporter": "python",
   "pygments_lexer": "ipython3",
   "version": "3.8.5"
  },
  "orig_nbformat": 4
 },
 "nbformat": 4,
 "nbformat_minor": 2
}
