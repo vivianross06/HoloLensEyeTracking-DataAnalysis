{
 "cells": [
  {
   "cell_type": "code",
   "execution_count": 1,
   "metadata": {},
   "outputs": [],
   "source": [
    "import numpy as np\n",
    "import pandas as pd\n",
    "import os"
   ]
  },
  {
   "cell_type": "code",
   "execution_count": 16,
   "metadata": {},
   "outputs": [],
   "source": [
    "data_directory = \"../Data/Study/A/41/\"\n",
    "subdirectory = \"recalibrated_calibration/\"\n",
    "fileList = os.listdir(data_directory + subdirectory)"
   ]
  },
  {
   "cell_type": "code",
   "execution_count": 9,
   "metadata": {},
   "outputs": [],
   "source": [
    "def clean_df(df):\n",
    "    result = df.loc[(df['Movement'] != \"start\") & (df['Movement'] != \"transition\") & (df['EyeTrackingEnabled'] == True) & (df['EyeCalibrationValid'] == True) & (df['EyeTrackingEnabledAndValid'] == True) & (df['EyeTrackingDataValid'] == True) & (df['GazeInputSource'] == \"Eyes\")].copy()\n",
    "    #result = result[result['Movement'] != \"transition\"]\n",
    "    #result = result[result['EyeTrackingDataValid'] == 'TRUE']\n",
    "    #result = result[result['GazeInputSource'] == 'Eyes']\n",
    "    result.reset_index(inplace=True, drop=True)\n",
    "    return result"
   ]
  },
  {
   "cell_type": "code",
   "execution_count": 10,
   "metadata": {},
   "outputs": [],
   "source": [
    "def calculate_cosine_error(df):\n",
    "    df['cosineError'] = df.apply(lambda row: np.degrees(np.arccos(np.dot(np.array((row['EyeGazeDirection.x'], row['EyeGazeDirection.y'], row['EyeGazeDirection.z'])), np.array((row['localTransform.position.x'], row['localTransform.position.y'], row['localTransform.position.z'])))/(np.linalg.norm(np.array((row['EyeGazeDirection.x'], row['EyeGazeDirection.y'], row['EyeGazeDirection.z']))) * np.linalg.norm(np.array((row['localTransform.position.x'], row['localTransform.position.y'], row['localTransform.position.z'])))))), axis=1)\n",
    "    return df"
   ]
  },
  {
   "cell_type": "code",
   "execution_count": 5,
   "metadata": {},
   "outputs": [],
   "source": [
    "def calculate_euclidean_error(df):\n",
    "    #df['euclideanError'] = df.apply(lambda row: np.linalg.norm(np.array((row['GazeAngleX'], row['GazeAngleY']))-np.array((row['TargetAngleX'], row['TargetAngleY']))), axis=1)\n",
    "    #df['recalibratedEuclideanError'] = df.apply(lambda row: np.linalg.norm(np.array((row['CalibratedGazeAngleX'], row['CalibratedGazeAngleY']))-np.array((row['TargetAngleX'], row['TargetAngleY']))), axis=1)\n",
    "    df['euclideanError'] = np.sqrt((df.GazeAngleX-df.TargetAngleX) * (df.GazeAngleX-df.TargetAngleX) + (df.GazeAngleY-df.TargetAngleY) * (df.GazeAngleY-df.TargetAngleY))\n",
    "    df['recalibratedEuclideanError'] = np.sqrt((df.CalibratedGazeAngleX-df.TargetAngleX) * (df.CalibratedGazeAngleX-df.TargetAngleX) + (df.CalibratedGazeAngleY-df.TargetAngleY) * (df.CalibratedGazeAngleY-df.TargetAngleY))\n",
    "    return df"
   ]
  },
  {
   "cell_type": "code",
   "execution_count": 6,
   "metadata": {},
   "outputs": [],
   "source": [
    "def calculate_errors(output_subdirectory):\n",
    "    for file in fileList:\n",
    "        if '.csv' in file:\n",
    "            df = pd.read_csv(data_directory + subdirectory + file)\n",
    "            error_df = calculate_euclidean_error(df)\n",
    "            error_df = calculate_cosine_error(error_df)\n",
    "            if not os.path.exists(os.path.join(data_directory, output_subdirectory)):\n",
    "                os.makedirs(os.path.join(data_directory, output_subdirectory))\n",
    "            error_df_output_path = data_directory + output_subdirectory + '/' + file\n",
    "            error_df.to_csv(error_df_output_path, index=False)\n",
    "            print(file)\n",
    "            print(\"uncalibrated: \" + str(error_df['euclideanError'].mean()))\n",
    "            print(\"calibrated: \" + str(error_df['recalibratedEuclideanError'].mean()))\n",
    "            print(\"cosine: \" + str(error_df['cosineError'].mean()))\n",
    "            print(\"\")"
   ]
  },
  {
   "cell_type": "code",
   "execution_count": 17,
   "metadata": {},
   "outputs": [
    {
     "name": "stdout",
     "output_type": "stream",
     "text": [
      "ssHeadConstrained_20230517151916_shifted27.csv\n",
      "uncalibrated: 13.62977565373499\n",
      "calibrated: 2.3413948569462963\n",
      "cosine: 13.342408867303067\n",
      "\n",
      "calibration_20230517152412_shifted6.csv\n",
      "uncalibrated: 15.790041828179861\n",
      "calibrated: 1.770323339825806\n",
      "cosine: 15.3842031230286\n",
      "\n",
      "wsBodyConstrained_20230517152542_shifted48.csv\n",
      "uncalibrated: 24.463039842372595\n",
      "calibrated: 25.74241187216683\n",
      "cosine: 23.743369646586512\n",
      "\n",
      "ssWalking_20230517152738_shifted48.csv\n",
      "uncalibrated: 70.01055340351267\n",
      "calibrated: 68.22328979253066\n",
      "cosine: 86.1426221575955\n",
      "\n",
      "hallway_20230517153005_shifted0.csv\n",
      "uncalibrated: 35.51238301441948\n",
      "calibrated: 25.082372108794786\n",
      "cosine: 33.70786962818922\n",
      "\n",
      "hallway_20230517151611_shifted27.csv\n",
      "uncalibrated: 33.340674603554326\n",
      "calibrated: 22.7641245404463\n",
      "cosine: 32.10557178745135\n",
      "\n",
      "ssHeadConstrained_20230517153316_shifted26.csv\n",
      "uncalibrated: 13.960566633279266\n",
      "calibrated: 2.306332064432914\n",
      "cosine: 13.666165463820363\n",
      "\n",
      "ssWalking_20230517151303_shifted0.csv\n",
      "uncalibrated: 67.05224305336418\n",
      "calibrated: 63.78817862890394\n",
      "cosine: 89.95406507357694\n",
      "\n",
      "calibration_20230517153738_shifted6.csv\n",
      "uncalibrated: 16.32157001678261\n",
      "calibrated: 1.8093195198471235\n",
      "cosine: 15.89864804670068\n",
      "\n",
      "wsWalking_20230517153521_shifted0.csv\n",
      "uncalibrated: 59.98303362298245\n",
      "calibrated: 58.64627079287076\n",
      "cosine: 91.85023024640375\n",
      "\n",
      "wsBodyConstrained_20230517151032_shifted47.csv\n",
      "uncalibrated: 30.089409742832963\n",
      "calibrated: 30.45272696808819\n",
      "cosine: 28.804906747071424\n",
      "\n",
      "wsWalking_20230517152150_shifted47.csv\n",
      "uncalibrated: 58.888582259207354\n",
      "calibrated: 57.45863730474554\n",
      "cosine: 93.72787217973512\n",
      "\n"
     ]
    }
   ],
   "source": [
    "calculate_errors(\"error/recalibrated_calibration\")"
   ]
  }
 ],
 "metadata": {
  "kernelspec": {
   "display_name": "base",
   "language": "python",
   "name": "python3"
  },
  "language_info": {
   "codemirror_mode": {
    "name": "ipython",
    "version": 3
   },
   "file_extension": ".py",
   "mimetype": "text/x-python",
   "name": "python",
   "nbconvert_exporter": "python",
   "pygments_lexer": "ipython3",
   "version": "3.8.5"
  },
  "orig_nbformat": 4
 },
 "nbformat": 4,
 "nbformat_minor": 2
}
