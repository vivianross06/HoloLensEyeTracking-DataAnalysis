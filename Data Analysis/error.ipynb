{
 "cells": [
  {
   "cell_type": "code",
   "execution_count": 1,
   "metadata": {},
   "outputs": [],
   "source": [
    "import numpy as np\n",
    "import pandas as pd\n",
    "import os"
   ]
  },
  {
   "cell_type": "code",
   "execution_count": 14,
   "metadata": {},
   "outputs": [],
   "source": [
    "data_directory = \"../Data/Study/\"\n",
    "hololenses = ['A/', 'B/']\n",
    "intermediate = ''\n",
    "#subdirectory = \"recalibrated_ssHeadConstrained/\""
   ]
  },
  {
   "cell_type": "code",
   "execution_count": 3,
   "metadata": {},
   "outputs": [],
   "source": [
    "def clean_df(df):\n",
    "    result = df.loc[(df['Movement'] != \"start\") & (df['Movement'] != \"transition\") & (df['EyeTrackingEnabled'] == True) & (df['EyeCalibrationValid'] == True) & (df['EyeTrackingEnabledAndValid'] == True) & (df['EyeTrackingDataValid'] == True) & (df['GazeInputSource'] == \"Eyes\")].copy()\n",
    "    #result = result[result['Movement'] != \"transition\"]\n",
    "    #result = result[result['EyeTrackingDataValid'] == 'TRUE']\n",
    "    #result = result[result['GazeInputSource'] == 'Eyes']\n",
    "    result.reset_index(inplace=True, drop=True)\n",
    "    return result"
   ]
  },
  {
   "cell_type": "code",
   "execution_count": 4,
   "metadata": {},
   "outputs": [],
   "source": [
    "def calculate_cosine_error(df):\n",
    "    df['cosineError'] = df.apply(lambda row: np.degrees(np.arccos(np.dot(np.array((row['EyeGazeDirection.x'], row['EyeGazeDirection.y'], row['EyeGazeDirection.z'])), np.array((row['localTransform.position.x'], row['localTransform.position.y'], row['localTransform.position.z'])))/(np.linalg.norm(np.array((row['EyeGazeDirection.x'], row['EyeGazeDirection.y'], row['EyeGazeDirection.z']))) * np.linalg.norm(np.array((row['localTransform.position.x'], row['localTransform.position.y'], row['localTransform.position.z'])))))), axis=1)\n",
    "    return df"
   ]
  },
  {
   "cell_type": "code",
   "execution_count": 5,
   "metadata": {},
   "outputs": [],
   "source": [
    "def calculate_euclidean_error(df):\n",
    "    #df['euclideanError'] = df.apply(lambda row: np.linalg.norm(np.array((row['GazeAngleX'], row['GazeAngleY']))-np.array((row['TargetAngleX'], row['TargetAngleY']))), axis=1)\n",
    "    #df['recalibratedEuclideanError'] = df.apply(lambda row: np.linalg.norm(np.array((row['CalibratedGazeAngleX'], row['CalibratedGazeAngleY']))-np.array((row['TargetAngleX'], row['TargetAngleY']))), axis=1)\n",
    "    df['euclideanError'] = np.sqrt((df.GazeAngleX-df.TargetAngleX) * (df.GazeAngleX-df.TargetAngleX) + (df.GazeAngleY-df.TargetAngleY) * (df.GazeAngleY-df.TargetAngleY))\n",
    "    df['recalibratedEuclideanError'] = np.sqrt((df.CalibratedGazeAngleX-df.TargetAngleX) * (df.CalibratedGazeAngleX-df.TargetAngleX) + (df.CalibratedGazeAngleY-df.TargetAngleY) * (df.CalibratedGazeAngleY-df.TargetAngleY))\n",
    "    return df"
   ]
  },
  {
   "cell_type": "code",
   "execution_count": 15,
   "metadata": {},
   "outputs": [],
   "source": [
    "def calculate_errors(subdirectory):\n",
    "    output_subdirectory = 'error/' + subdirectory\n",
    "    for hololens in hololenses:\n",
    "        participantsList = os.listdir(data_directory + hololens)\n",
    "        for participant in participantsList:\n",
    "            print(participant)\n",
    "            if not participant == '.DS_Store':\n",
    "                if os.path.exists(data_directory + hololens + participant + '/' + intermediate + output_subdirectory) and len(os.listdir(data_directory + hololens + participant + '/' + intermediate + output_subdirectory)) == 12:\n",
    "                    print('already calculated')\n",
    "                    continue\n",
    "                fileList = os.listdir(data_directory + hololens + participant + '/' + intermediate + subdirectory)\n",
    "                for file in fileList:\n",
    "                    if '.csv' in file:\n",
    "                        filePath = data_directory + hololens + participant + '/' + intermediate\n",
    "                        df = pd.read_csv(filePath + subdirectory + file)\n",
    "                        error_df = calculate_euclidean_error(df)\n",
    "                        error_df = calculate_cosine_error(error_df)\n",
    "                        if not os.path.exists(filePath + output_subdirectory):\n",
    "                            os.makedirs(filePath + output_subdirectory)\n",
    "                        error_df_output_path = filePath + output_subdirectory + '/' + file\n",
    "                        error_df.to_csv(error_df_output_path, index=False)\n",
    "                        #print(file)\n",
    "                        #print(\"uncalibrated: \" + str(error_df['euclideanError'].mean()))\n",
    "                        #print(\"calibrated: \" + str(error_df['recalibratedEuclideanError'].mean()))\n",
    "                        #print(\"cosine: \" + str(error_df['cosineError'].mean()))\n",
    "                        #print(\"\")"
   ]
  },
  {
   "cell_type": "code",
   "execution_count": 19,
   "metadata": {},
   "outputs": [
    {
     "name": "stdout",
     "output_type": "stream",
     "text": [
      "03\n",
      "04\n",
      "32\n",
      "34\n",
      "05\n",
      "02\n",
      ".DS_Store\n",
      "18\n",
      "27\n",
      "29\n",
      "10\n",
      "19\n",
      "43\n",
      "07\n",
      "36\n",
      "09\n",
      "37\n",
      "08\n",
      "01\n",
      "06\n",
      "39\n",
      "41\n",
      "25\n",
      "35\n",
      "33\n",
      ".DS_Store\n",
      "20\n",
      "11\n",
      "16\n",
      "42\n",
      "28\n",
      "17\n",
      "26\n",
      "21\n",
      "38\n",
      "31\n",
      "30\n",
      "24\n",
      "23\n",
      "15\n",
      "12\n",
      "40\n",
      "13\n",
      "14\n",
      "22\n"
     ]
    }
   ],
   "source": [
    "calculate_errors(\"recalibrated_wsWalking/\")"
   ]
  }
 ],
 "metadata": {
  "kernelspec": {
   "display_name": "base",
   "language": "python",
   "name": "python3"
  },
  "language_info": {
   "codemirror_mode": {
    "name": "ipython",
    "version": 3
   },
   "file_extension": ".py",
   "mimetype": "text/x-python",
   "name": "python",
   "nbconvert_exporter": "python",
   "pygments_lexer": "ipython3",
   "version": "3.8.5"
  },
  "orig_nbformat": 4
 },
 "nbformat": 4,
 "nbformat_minor": 2
}
